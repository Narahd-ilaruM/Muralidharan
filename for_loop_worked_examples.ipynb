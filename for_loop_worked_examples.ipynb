{
  "nbformat": 4,
  "nbformat_minor": 0,
  "metadata": {
    "colab": {
      "name": "for loop worked examples.ipynb",
      "provenance": [],
      "authorship_tag": "ABX9TyPJ9lazfSod5QWPTKTQJ9pu",
      "include_colab_link": true
    },
    "kernelspec": {
      "name": "python3",
      "display_name": "Python 3"
    },
    "language_info": {
      "name": "python"
    }
  },
  "cells": [
    {
      "cell_type": "markdown",
      "metadata": {
        "id": "view-in-github",
        "colab_type": "text"
      },
      "source": [
        "<a href=\"https://colab.research.google.com/github/Narahd-ilaruM/Muralidharan/blob/main/for_loop_worked_examples.ipynb\" target=\"_parent\"><img src=\"https://colab.research.google.com/assets/colab-badge.svg\" alt=\"Open In Colab\"/></a>"
      ]
    },
    {
      "cell_type": "code",
      "execution_count": 12,
      "metadata": {
        "colab": {
          "base_uri": "https://localhost:8080/"
        },
        "id": "_IJT3dZANGMn",
        "outputId": "33e25509-148c-4cf9-a483-ac494ca1d047"
      },
      "outputs": [
        {
          "output_type": "stream",
          "name": "stdout",
          "text": [
            "The square of the number 1 is 1 with index 0\n",
            "The square of the number 2 is 4 with index 1\n",
            "The square of the number 4 is 16 with index 2\n",
            "The square of the number 6 is 36 with index 3\n",
            "The square of the number 11 is 121 with index 4\n",
            "The square of the number 14 is 196 with index 5\n",
            "The square of the number 17 is 289 with index 6\n",
            "The square of the number 20 is 400 with index 7\n"
          ]
        }
      ],
      "source": [
        "list_of_numbers = [1,2,4,6,11,14,17,20]\n",
        "for sequence,number in enumerate (list_of_numbers):\n",
        "  squared_number = number**(2)\n",
        "  print(f\"The square of the number {number} is {squared_number} with index {sequence}\")"
      ]
    },
    {
      "cell_type": "code",
      "source": [
        "list_of_numbers"
      ],
      "metadata": {
        "colab": {
          "base_uri": "https://localhost:8080/"
        },
        "id": "moMNi-zANhnE",
        "outputId": "b0d58cb4-8ade-406c-ae9b-843102c9749f"
      },
      "execution_count": 13,
      "outputs": [
        {
          "output_type": "execute_result",
          "data": {
            "text/plain": [
              "[1, 2, 4, 6, 11, 14, 17, 20]"
            ]
          },
          "metadata": {},
          "execution_count": 13
        }
      ]
    },
    {
      "cell_type": "code",
      "source": [
        "outcomes = []\n",
        "for sequences,number in enumerate (list_of_numbers):\n",
        "  squared_number = number**2\n",
        "  outcomes.append(squared_number)\n",
        "  print(f'list of square number is {outcomes} with index {sequences}')"
      ],
      "metadata": {
        "colab": {
          "base_uri": "https://localhost:8080/"
        },
        "id": "9Nrgs3zASqYY",
        "outputId": "f61eb765-9a72-496a-d006-e41329946c89"
      },
      "execution_count": 23,
      "outputs": [
        {
          "output_type": "stream",
          "name": "stdout",
          "text": [
            "list of square number is [1] with index 0\n",
            "list of square number is [1, 4] with index 1\n",
            "list of square number is [1, 4, 16] with index 2\n",
            "list of square number is [1, 4, 16, 36] with index 3\n",
            "list of square number is [1, 4, 16, 36, 121] with index 4\n",
            "list of square number is [1, 4, 16, 36, 121, 196] with index 5\n",
            "list of square number is [1, 4, 16, 36, 121, 196, 289] with index 6\n",
            "list of square number is [1, 4, 16, 36, 121, 196, 289, 400] with index 7\n"
          ]
        }
      ]
    },
    {
      "cell_type": "code",
      "source": [
        "print(list_of_numbers), print(outcomes)"
      ],
      "metadata": {
        "colab": {
          "base_uri": "https://localhost:8080/"
        },
        "id": "8SzqKeF8THcH",
        "outputId": "09f9f01a-3720-4dff-c513-65d912aed4a7"
      },
      "execution_count": 24,
      "outputs": [
        {
          "output_type": "stream",
          "name": "stdout",
          "text": [
            "[1, 2, 4, 6, 11, 14, 17, 20]\n",
            "[1, 4, 16, 36, 121, 196, 289, 400]\n"
          ]
        },
        {
          "output_type": "execute_result",
          "data": {
            "text/plain": [
              "(None, None)"
            ]
          },
          "metadata": {},
          "execution_count": 24
        }
      ]
    },
    {
      "cell_type": "code",
      "source": [
        "zipped_dict = dict(zip(list_of_numbers,outcomes))\n",
        "print(zipped_dict)"
      ],
      "metadata": {
        "colab": {
          "base_uri": "https://localhost:8080/"
        },
        "id": "H5NAyXxGVpUS",
        "outputId": "eb45a187-567c-4b34-ba50-593b32573237"
      },
      "execution_count": 26,
      "outputs": [
        {
          "output_type": "stream",
          "name": "stdout",
          "text": [
            "{1: 1, 2: 4, 4: 16, 6: 36, 11: 121, 14: 196, 17: 289, 20: 400}\n"
          ]
        }
      ]
    },
    {
      "cell_type": "code",
      "source": [
        "print(list_of_numbers)"
      ],
      "metadata": {
        "colab": {
          "base_uri": "https://localhost:8080/"
        },
        "id": "n6yolz70Vr0s",
        "outputId": "622c0d72-6c04-4faa-9b03-23d6baf6fd58"
      },
      "execution_count": 27,
      "outputs": [
        {
          "output_type": "stream",
          "name": "stdout",
          "text": [
            "[1, 2, 4, 6, 11, 14, 17, 20]\n"
          ]
        }
      ]
    },
    {
      "cell_type": "code",
      "source": [
        "end_result = []\n",
        "for sequence,number in enumerate (list_of_numbers):\n",
        "  if number%2 == 0:\n",
        "    cubed_number = number**3\n",
        "    end_result.append(cubed_number)\n",
        "    print(f\"The value of {sequence+1} cubed number is {end_result}\")\n",
        "  else:\n",
        "    print(f\"{sequence+1} is an odd number\")\n",
        "    "
      ],
      "metadata": {
        "colab": {
          "base_uri": "https://localhost:8080/"
        },
        "id": "G9U2gUXeXM1x",
        "outputId": "2328a653-334a-42c7-a142-978486f19c88"
      },
      "execution_count": 37,
      "outputs": [
        {
          "output_type": "stream",
          "name": "stdout",
          "text": [
            "1 is an odd number\n",
            "The value of 2 cubed number is [8]\n",
            "The value of 3 cubed number is [8, 64]\n",
            "The value of 4 cubed number is [8, 64, 216]\n",
            "5 is an odd number\n",
            "The value of 6 cubed number is [8, 64, 216, 2744]\n",
            "7 is an odd number\n",
            "The value of 8 cubed number is [8, 64, 216, 2744, 8000]\n"
          ]
        }
      ]
    },
    {
      "cell_type": "code",
      "source": [
        "end_result = []\n",
        "for number in list_of_numbers:\n",
        "  if number%2 == 0:\n",
        "    cubed_number = number**3\n",
        "    end_result.append(cubed_number)\n",
        "    print(f\"The value of cubed number is {end_result}\")\n",
        "  else:\n",
        "    print(f\"I am an odd number\")"
      ],
      "metadata": {
        "colab": {
          "base_uri": "https://localhost:8080/"
        },
        "id": "rwO1SfMnYDU7",
        "outputId": "8af77293-aced-4d90-a38d-92dd3b284528"
      },
      "execution_count": 39,
      "outputs": [
        {
          "output_type": "stream",
          "name": "stdout",
          "text": [
            "I am an odd number\n",
            "The value of cubed number is [8]\n",
            "The value of cubed number is [8, 64]\n",
            "The value of cubed number is [8, 64, 216]\n",
            "I am an odd number\n",
            "The value of cubed number is [8, 64, 216, 2744]\n",
            "I am an odd number\n",
            "The value of cubed number is [8, 64, 216, 2744, 8000]\n"
          ]
        }
      ]
    },
    {
      "cell_type": "code",
      "source": [
        "list_of_values = [1,2,3,4,5,6,7,8]\n",
        "end_result = []\n",
        "for number in list_of_values:\n",
        "  if number%2 != 0:\n",
        "    cubed_number = number**3\n",
        "    end_result.append(cubed_number)\n",
        "    print(f\"The value of {number} cubed number is {end_result}\")\n",
        "  else:\n",
        "    print(f\"{number} is a even number\")"
      ],
      "metadata": {
        "colab": {
          "base_uri": "https://localhost:8080/"
        },
        "id": "jgOT66nN58ie",
        "outputId": "a52f813d-95d7-4060-a993-764763ea247f"
      },
      "execution_count": 86,
      "outputs": [
        {
          "output_type": "stream",
          "name": "stdout",
          "text": [
            "The value of 1 cubed number is [1]\n",
            "2 is a even number\n",
            "The value of 3 cubed number is [1, 27]\n",
            "4 is a even number\n",
            "The value of 5 cubed number is [1, 27, 125]\n",
            "6 is a even number\n",
            "The value of 7 cubed number is [1, 27, 125, 343]\n",
            "8 is a even number\n"
          ]
        }
      ]
    },
    {
      "cell_type": "code",
      "source": [
        "#@title Default title text\n",
        "for number in list_of_numbers:\n",
        "  if number%2 == 0:\n",
        "    cubed_number = number**3\n",
        "    print(f\"The value of {number} cubed number is {cubed_number}\")\n",
        "  else:\n",
        "    print(f\"I am an odd number\")\n"
      ],
      "metadata": {
        "colab": {
          "base_uri": "https://localhost:8080/"
        },
        "id": "cQq2U6tAb7ML",
        "outputId": "f8b075e8-959b-4085-af3b-79401a4590a2"
      },
      "execution_count": 42,
      "outputs": [
        {
          "output_type": "stream",
          "name": "stdout",
          "text": [
            "I am an odd number\n",
            "The value of 2 cubed number is 8\n",
            "The value of 4 cubed number is 64\n",
            "The value of 6 cubed number is 216\n",
            "I am an odd number\n",
            "The value of 14 cubed number is 2744\n",
            "I am an odd number\n",
            "The value of 20 cubed number is 8000\n"
          ]
        }
      ]
    },
    {
      "cell_type": "code",
      "source": [
        "list(range(0,21,3))\n",
        "for number in range(0,21,3):\n",
        "  square_root = number**(1/2)\n",
        "  print(f\"the square root of {number} is {square_root}\")"
      ],
      "metadata": {
        "colab": {
          "base_uri": "https://localhost:8080/"
        },
        "id": "wIcrn6MEcWYs",
        "outputId": "19ba4f9d-c344-4dc2-a16b-2d7a1e40075d"
      },
      "execution_count": 51,
      "outputs": [
        {
          "output_type": "stream",
          "name": "stdout",
          "text": [
            "the square root of 0 is 0.0\n",
            "the square root of 3 is 1.7320508075688772\n",
            "the square root of 6 is 2.449489742783178\n",
            "the square root of 9 is 3.0\n",
            "the square root of 12 is 3.4641016151377544\n",
            "the square root of 15 is 3.872983346207417\n",
            "the square root of 18 is 4.242640687119285\n"
          ]
        }
      ]
    },
    {
      "cell_type": "code",
      "source": [
        "\n",
        "sum_squares = 0\n",
        "\n",
        "for number in range(1,11):\n",
        "  sum_squares = sum_squares + number\n",
        "  print(sum_squares)\n",
        "\n",
        "# Now we have added the squares of all the numbers in our list\n",
        "print(f\"The sum of the squares of our list of numbers is {sum_squares}\")"
      ],
      "metadata": {
        "colab": {
          "base_uri": "https://localhost:8080/"
        },
        "id": "hH4Nkt-imw7-",
        "outputId": "a39e113e-5f8b-4399-d4e5-633e30e50837"
      },
      "execution_count": 92,
      "outputs": [
        {
          "output_type": "stream",
          "name": "stdout",
          "text": [
            "1\n",
            "3\n",
            "6\n",
            "10\n",
            "15\n",
            "21\n",
            "28\n",
            "36\n",
            "45\n",
            "55\n",
            "The sum of the squares of our list of numbers is 55\n"
          ]
        }
      ]
    },
    {
      "cell_type": "code",
      "source": [
        "sum_squares = 0\n",
        "\n",
        "for number in range(1,10):\n",
        "  sum_squares = sum_squares + number**2\n",
        " \n",
        "print(f\"The sum of squares in the range is {sum_squares}\")"
      ],
      "metadata": {
        "colab": {
          "base_uri": "https://localhost:8080/"
        },
        "id": "bgtMh04IutBe",
        "outputId": "41ade3b9-2ead-4e76-b4b5-9df72ab14b80"
      },
      "execution_count": 90,
      "outputs": [
        {
          "output_type": "stream",
          "name": "stdout",
          "text": [
            "The sum of squares in the range is 285\n"
          ]
        }
      ]
    },
    {
      "cell_type": "code",
      "source": [
        "sum_squares = 0\n",
        "\n",
        "for number in range(1,11):\n",
        "  sum_squares = sum_squares + number**2\n",
        "  print(sum_squares)\n",
        "\n",
        "# Now we have added the squares of all the numbers in our list\n",
        "print(f\"The sum of the squares of our list of numbers is {sum_squares}\")"
      ],
      "metadata": {
        "colab": {
          "base_uri": "https://localhost:8080/"
        },
        "id": "0j_SBWovzDUZ",
        "outputId": "f626a0ca-6f06-4057-bc24-839d43f46905"
      },
      "execution_count": 89,
      "outputs": [
        {
          "output_type": "stream",
          "name": "stdout",
          "text": [
            "1\n",
            "5\n",
            "14\n",
            "30\n",
            "55\n",
            "91\n",
            "140\n",
            "204\n",
            "285\n",
            "385\n",
            "The sum of the squares of our list of numbers is 385\n"
          ]
        }
      ]
    },
    {
      "cell_type": "code",
      "source": [
        "heisenberg_quote =  \"I am the one who knocks!\"\n",
        "for char in heisenberg_quote:\n",
        "  print(f\" The character is {char}\")"
      ],
      "metadata": {
        "colab": {
          "base_uri": "https://localhost:8080/"
        },
        "id": "i_bjUf-k0usL",
        "outputId": "56eaa6c0-955c-43dd-953d-373380e3e76a"
      },
      "execution_count": 93,
      "outputs": [
        {
          "output_type": "stream",
          "name": "stdout",
          "text": [
            " The character is I\n",
            " The character is  \n",
            " The character is a\n",
            " The character is m\n",
            " The character is  \n",
            " The character is t\n",
            " The character is h\n",
            " The character is e\n",
            " The character is  \n",
            " The character is o\n",
            " The character is n\n",
            " The character is e\n",
            " The character is  \n",
            " The character is w\n",
            " The character is h\n",
            " The character is o\n",
            " The character is  \n",
            " The character is k\n",
            " The character is n\n",
            " The character is o\n",
            " The character is c\n",
            " The character is k\n",
            " The character is s\n",
            " The character is !\n"
          ]
        }
      ]
    },
    {
      "cell_type": "code",
      "source": [
        "heisenberg_quote =  \"I am the one who knocks!\"\n",
        "for position,char in enumerate(heisenberg_quote):\n",
        "  print(f\" The character is {char} with index {position}\")"
      ],
      "metadata": {
        "colab": {
          "base_uri": "https://localhost:8080/"
        },
        "id": "h58vIK-5FMR4",
        "outputId": "1da26d0f-4452-4406-aff8-e6b5a0809127"
      },
      "execution_count": 94,
      "outputs": [
        {
          "output_type": "stream",
          "name": "stdout",
          "text": [
            " The character is I with index 0\n",
            " The character is   with index 1\n",
            " The character is a with index 2\n",
            " The character is m with index 3\n",
            " The character is   with index 4\n",
            " The character is t with index 5\n",
            " The character is h with index 6\n",
            " The character is e with index 7\n",
            " The character is   with index 8\n",
            " The character is o with index 9\n",
            " The character is n with index 10\n",
            " The character is e with index 11\n",
            " The character is   with index 12\n",
            " The character is w with index 13\n",
            " The character is h with index 14\n",
            " The character is o with index 15\n",
            " The character is   with index 16\n",
            " The character is k with index 17\n",
            " The character is n with index 18\n",
            " The character is o with index 19\n",
            " The character is c with index 20\n",
            " The character is k with index 21\n",
            " The character is s with index 22\n",
            " The character is ! with index 23\n"
          ]
        }
      ]
    },
    {
      "cell_type": "code",
      "source": [
        "heisenberg_quote = \"It ceases to exist without me. No, you clearly don't know who you're talking to, so let me clue you in. I am not in danger, Skyler. I am the danger.\"\n",
        "words_by_walter = heisenberg_quote.split(\" \")\n",
        "print(words_by_walter)"
      ],
      "metadata": {
        "colab": {
          "base_uri": "https://localhost:8080/"
        },
        "id": "eNKRQwCmGErn",
        "outputId": "5b1683cb-6b46-4d01-a0c0-ce85b6a9cf4f"
      },
      "execution_count": 100,
      "outputs": [
        {
          "output_type": "stream",
          "name": "stdout",
          "text": [
            "['It', 'ceases', 'to', 'exist', 'without', 'me.', 'No,', 'you', 'clearly', \"don't\", 'know', 'who', \"you're\", 'talking', 'to,', 'so', 'let', 'me', 'clue', 'you', 'in.', 'I', 'am', 'not', 'in', 'danger,', 'Skyler.', 'I', 'am', 'the', 'danger.']\n"
          ]
        }
      ]
    },
    {
      "cell_type": "code",
      "source": [
        "for word in words_by_walter:\n",
        "  if word not in['to','exist']:\n",
        "    print(f\"The updated sentence is {word}\")"
      ],
      "metadata": {
        "colab": {
          "base_uri": "https://localhost:8080/"
        },
        "id": "-7SQ5mGwFacL",
        "outputId": "ebd5ba3c-904e-4528-ce4a-9a16d6ac074a"
      },
      "execution_count": 101,
      "outputs": [
        {
          "output_type": "stream",
          "name": "stdout",
          "text": [
            "The updated sentence is It\n",
            "The updated sentence is ceases\n",
            "The updated sentence is without\n",
            "The updated sentence is me.\n",
            "The updated sentence is No,\n",
            "The updated sentence is you\n",
            "The updated sentence is clearly\n",
            "The updated sentence is don't\n",
            "The updated sentence is know\n",
            "The updated sentence is who\n",
            "The updated sentence is you're\n",
            "The updated sentence is talking\n",
            "The updated sentence is to,\n",
            "The updated sentence is so\n",
            "The updated sentence is let\n",
            "The updated sentence is me\n",
            "The updated sentence is clue\n",
            "The updated sentence is you\n",
            "The updated sentence is in.\n",
            "The updated sentence is I\n",
            "The updated sentence is am\n",
            "The updated sentence is not\n",
            "The updated sentence is in\n",
            "The updated sentence is danger,\n",
            "The updated sentence is Skyler.\n",
            "The updated sentence is I\n",
            "The updated sentence is am\n",
            "The updated sentence is the\n",
            "The updated sentence is danger.\n"
          ]
        }
      ]
    },
    {
      "cell_type": "code",
      "source": [
        "days = ('Monday' ,'Tuesday' ,'Wednesday' ,'Thursday' ,'Friday','Saturday','Sunday')\n",
        "\n",
        "for sequence,day in enumerate(days):\n",
        "  print(f\"Day {sequence+1} is {day}\")"
      ],
      "metadata": {
        "colab": {
          "base_uri": "https://localhost:8080/"
        },
        "id": "FNVUP5jSIDnE",
        "outputId": "318b65e3-fd93-4245-f616-4b8d2f1216ec"
      },
      "execution_count": 114,
      "outputs": [
        {
          "output_type": "stream",
          "name": "stdout",
          "text": [
            "Day 1 is Monday\n",
            "Day 2 is Tuesday\n",
            "Day 3 is Wednesday\n",
            "Day 4 is Thursday\n",
            "Day 5 is Friday\n",
            "Day 6 is Saturday\n",
            "Day 7 is Sunday\n"
          ]
        }
      ]
    },
    {
      "cell_type": "code",
      "source": [
        "country_city_river_list = [('India','New Delhi','Ganga'),('Australia','Canberra','Rovers'),('United States','Washington DC','Missouri'),('England','London','Thames')]\n",
        "\n",
        "\n"
      ],
      "metadata": {
        "id": "aHqrCkYuJWM1"
      },
      "execution_count": 117,
      "outputs": []
    },
    {
      "cell_type": "code",
      "source": [
        "country_city_river_list = [('India','New Delhi','Ganga'),('Australia','Canberra','Rovers'),('United States','Washington DC','Missouri'),('England','London','Thames')]\n",
        "for country,capital,river in country_city_river_list:\n",
        "  print(f\"The capital of {country} is {capital} with flow of river {river}\")"
      ],
      "metadata": {
        "colab": {
          "base_uri": "https://localhost:8080/"
        },
        "id": "7QJMmtsGQ70J",
        "outputId": "58833be6-e17d-48b8-b1c1-e91a726234e9"
      },
      "execution_count": 121,
      "outputs": [
        {
          "output_type": "stream",
          "name": "stdout",
          "text": [
            "The capital of India is New Delhi with flow of river Ganga\n",
            "The capital of Australia is Canberra with flow of river Rovers\n",
            "The capital of United States is Washington DC with flow of river Missouri\n",
            "The capital of England is London with flow of river Thames\n"
          ]
        }
      ]
    },
    {
      "cell_type": "code",
      "source": [
        ""
      ],
      "metadata": {
        "id": "cY27KeFiSFoU"
      },
      "execution_count": null,
      "outputs": []
    }
  ]
}