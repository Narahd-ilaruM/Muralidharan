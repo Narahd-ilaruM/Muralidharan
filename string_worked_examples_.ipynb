{
  "nbformat": 4,
  "nbformat_minor": 0,
  "metadata": {
    "colab": {
      "name": "string worked examples .ipynb",
      "provenance": [],
      "authorship_tag": "ABX9TyOiK52ClGXmtczF0rVfv9VF",
      "include_colab_link": true
    },
    "kernelspec": {
      "name": "python3",
      "display_name": "Python 3"
    },
    "language_info": {
      "name": "python"
    }
  },
  "cells": [
    {
      "cell_type": "markdown",
      "metadata": {
        "id": "view-in-github",
        "colab_type": "text"
      },
      "source": [
        "<a href=\"https://colab.research.google.com/github/Narahd-ilaruM/Muralidharan/blob/main/string_worked_examples_.ipynb\" target=\"_parent\"><img src=\"https://colab.research.google.com/assets/colab-badge.svg\" alt=\"Open In Colab\"/></a>"
      ]
    },
    {
      "cell_type": "code",
      "execution_count": 1,
      "metadata": {
        "colab": {
          "base_uri": "https://localhost:8080/",
          "height": 36
        },
        "id": "GnJ6RqxxaUoV",
        "outputId": "73ac6e63-2a75-4819-de91-172d0ca46b69"
      },
      "outputs": [
        {
          "output_type": "execute_result",
          "data": {
            "text/plain": [
              "'Data science using python'"
            ],
            "application/vnd.google.colaboratory.intrinsic+json": {
              "type": "string"
            }
          },
          "metadata": {},
          "execution_count": 1
        }
      ],
      "source": [
        "My_code_in_string='Data science using python'\n",
        "My_code_in_string"
      ]
    },
    {
      "cell_type": "code",
      "source": [
        "My_name='Muralidharan'\n",
        "print (My_name)"
      ],
      "metadata": {
        "colab": {
          "base_uri": "https://localhost:8080/"
        },
        "id": "zqWVn7fnbMZI",
        "outputId": "f89dfd68-eba5-4e13-a85b-ae833ebdd7e5"
      },
      "execution_count": 2,
      "outputs": [
        {
          "output_type": "stream",
          "name": "stdout",
          "text": [
            "Muralidharan\n"
          ]
        }
      ]
    },
    {
      "cell_type": "code",
      "source": [
        "type(My_name)"
      ],
      "metadata": {
        "colab": {
          "base_uri": "https://localhost:8080/"
        },
        "id": "2bg_EhgLbYnr",
        "outputId": "2e5243f2-9336-4c7a-e591-7096175a255b"
      },
      "execution_count": 3,
      "outputs": [
        {
          "output_type": "execute_result",
          "data": {
            "text/plain": [
              "str"
            ]
          },
          "metadata": {},
          "execution_count": 3
        }
      ]
    },
    {
      "cell_type": "code",
      "source": [
        "xyz=(\"mubbu\")*2\n",
        "print(xyz)\n",
        "print(type(xyz))"
      ],
      "metadata": {
        "colab": {
          "base_uri": "https://localhost:8080/"
        },
        "id": "9YYNw17WbkHq",
        "outputId": "40b3d82d-c0d8-434e-ab1c-5fc0cee819a0"
      },
      "execution_count": 33,
      "outputs": [
        {
          "output_type": "stream",
          "name": "stdout",
          "text": [
            "wubbawubba\n",
            "<class 'str'>\n"
          ]
        }
      ]
    },
    {
      "cell_type": "code",
      "source": [
        "print('MURALIHDHARAN \\n\"s/o\"Muniraju')\n",
        "print('\\n\"ADDRESS\" M.I.G-3,Thendral Nagar,Therpet')\n",
        "print('\\n\"POST & TALUK\" DENKANIKOTTAI-635107')\n",
        "print('\\n\"DISTRICT\" KRISHNAGIRI')\n",
        "print('\\n\"STATE\" TAMILNADU')\n",
        "print('\\n\"COUNTRY\" INDIA')\n"
      ],
      "metadata": {
        "colab": {
          "base_uri": "https://localhost:8080/"
        },
        "id": "RCKWip-obyhY",
        "outputId": "bd10f0f5-36f1-4195-fc19-89bdb9a01289"
      },
      "execution_count": 27,
      "outputs": [
        {
          "output_type": "stream",
          "name": "stdout",
          "text": [
            "MURALIHDHARAN \n",
            "\"s/o\"Muniraju\n",
            "\n",
            "\"ADDRESS\" M.I.G-3,Thendral Nagar,Therpet\n",
            "\n",
            "\"POST & TALUK\" DENKANIKOTTAI-635107\n",
            "\n",
            "\"DISTRICT\" KRISHNAGIRI\n",
            "\n",
            "\"STATE\" TAMILNADU\n",
            "\n",
            "\"COUNTRY\" INDIA\n"
          ]
        }
      ]
    },
    {
      "cell_type": "code",
      "source": [
        "Longword=('Xenotransplantation Tergiversation Uncopyrightable')\n",
        "print(Longword[15])\n",
        "print(Longword[-10])\n",
        "print(Longword[49])\n",
        "print(Longword[-2])\n",
        "print(Longword[0])\n",
        "len(Longword)\n",
        "print(Longword[1:3])\n",
        "print(Longword[-3:-1])\n",
        "print(Longword[:40])\n",
        "print(Longword[:13])\n",
        "print(Longword[13])\n",
        "print(Longword[20:])\n",
        "print(Longword[1:4])\n",
        "print(Longword[3:5])\n",
        "print(Longword[-4:-1])\n",
        "print(Longword[-4:])\n",
        "print(Longword[-19])\n",
        "print(Longword[::1])\n",
        "print(Longword[::3])\n",
        "print(Longword[3:20:4])\n",
        "print(Longword[::-1])\n",
        "print(Longword[::-2])\n",
        "print(Longword[4:1:-1])\n",
        "print(Longword[1:4:1])\n",
        "s='foobar'\n",
        "print(s[0::-3])\n",
        "print(s[0::3])\n",
        "print(s[-1::-2])\n"
      ],
      "metadata": {
        "colab": {
          "base_uri": "https://localhost:8080/"
        },
        "id": "hZPlFw4Ec-dB",
        "outputId": "45c45fe4-4a57-4df1-a68d-755aaf9d4113"
      },
      "execution_count": 83,
      "outputs": [
        {
          "output_type": "stream",
          "name": "stdout",
          "text": [
            "t\n",
            "y\n",
            "e\n",
            "l\n",
            "X\n",
            "en\n",
            "bl\n",
            "Xenotransplantation Tergiversation Uncop\n",
            "Xenotransplan\n",
            "t\n",
            "Tergiversation Uncopyrightable\n",
            "eno\n",
            "ot\n",
            "abl\n",
            "able\n",
            "i\n",
            "Xenotransplantation Tergiversation Uncopyrightable\n",
            "Xoapntneirtnnpitl\n",
            "onat \n",
            "elbathgirypocnU noitasrevigreT noitatnalpsnartoneX\n",
            "ebtgrpcUniarvge ottapnroe\n",
            "ton\n",
            "eno\n",
            "f\n",
            "fb\n",
            "rbo\n"
          ]
        }
      ]
    },
    {
      "cell_type": "code",
      "source": [
        "Boy=\"Murali\"\n",
        "Girl='Lavanya'\n",
        "merge=Boy+'-'+Girl\n",
        "print(merge)\n",
        "merge.lower(),merge.upper(),merge.count('a'),merge.count('M'+'u')\n",
        "\n",
        "\n",
        "\n",
        "\n"
      ],
      "metadata": {
        "colab": {
          "base_uri": "https://localhost:8080/"
        },
        "id": "oDP3oPz1hoOn",
        "outputId": "78a39c03-b7fc-4c91-d929-ff2afcce6c85"
      },
      "execution_count": 100,
      "outputs": [
        {
          "output_type": "stream",
          "name": "stdout",
          "text": [
            "Murali-Lavanya\n"
          ]
        },
        {
          "output_type": "execute_result",
          "data": {
            "text/plain": [
              "('murali-lavanya', 'MURALI-LAVANYA', 4, 1)"
            ]
          },
          "metadata": {},
          "execution_count": 100
        }
      ]
    },
    {
      "cell_type": "code",
      "source": [
        ""
      ],
      "metadata": {
        "id": "KJZdf8F-2DGm"
      },
      "execution_count": null,
      "outputs": []
    }
  ]
}