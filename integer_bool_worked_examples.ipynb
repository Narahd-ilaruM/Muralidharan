{
  "nbformat": 4,
  "nbformat_minor": 0,
  "metadata": {
    "colab": {
      "name": "integer bool worked examples",
      "provenance": [],
      "authorship_tag": "ABX9TyPK111IGsXIFrStKSCPZ6uK",
      "include_colab_link": true
    },
    "kernelspec": {
      "name": "python3",
      "display_name": "Python 3"
    },
    "language_info": {
      "name": "python"
    }
  },
  "cells": [
    {
      "cell_type": "markdown",
      "metadata": {
        "id": "view-in-github",
        "colab_type": "text"
      },
      "source": [
        "<a href=\"https://colab.research.google.com/github/Narahd-ilaruM/Muralidharan/blob/main/integer_bool_worked_examples.ipynb\" target=\"_parent\"><img src=\"https://colab.research.google.com/assets/colab-badge.svg\" alt=\"Open In Colab\"/></a>"
      ]
    },
    {
      "cell_type": "code",
      "execution_count": null,
      "metadata": {
        "colab": {
          "base_uri": "https://localhost:8080/"
        },
        "id": "JmT3j-uk9MlY",
        "outputId": "c30823e9-e837-4d20-8691-796d73dacdf5"
      },
      "outputs": [
        {
          "output_type": "stream",
          "name": "stdout",
          "text": [
            "Welcome to Almabetter\n"
          ]
        }
      ],
      "source": [
        "print (\"Welcome to Almabetter\")"
      ]
    },
    {
      "cell_type": "code",
      "source": [
        "x=5\n",
        "type(x)"
      ],
      "metadata": {
        "colab": {
          "base_uri": "https://localhost:8080/"
        },
        "id": "yccMvix09bYc",
        "outputId": "c1976434-e6e8-4040-8d5d-4f26d853fcbe"
      },
      "execution_count": null,
      "outputs": [
        {
          "output_type": "execute_result",
          "data": {
            "text/plain": [
              "int"
            ]
          },
          "metadata": {},
          "execution_count": 3
        }
      ]
    },
    {
      "cell_type": "code",
      "source": [
        "type(\"welcome\")"
      ],
      "metadata": {
        "colab": {
          "base_uri": "https://localhost:8080/"
        },
        "id": "cWymnk3G-NO3",
        "outputId": "256cefd1-0030-406c-a8c0-b5653dab95cc"
      },
      "execution_count": null,
      "outputs": [
        {
          "output_type": "execute_result",
          "data": {
            "text/plain": [
              "str"
            ]
          },
          "metadata": {},
          "execution_count": 7
        }
      ]
    },
    {
      "cell_type": "code",
      "source": [
        "r=True\n",
        "type(r)"
      ],
      "metadata": {
        "colab": {
          "base_uri": "https://localhost:8080/"
        },
        "id": "1xEX4ALY-TaD",
        "outputId": "357c8d08-fb46-4935-a22b-c27c1c671e0a"
      },
      "execution_count": null,
      "outputs": [
        {
          "output_type": "execute_result",
          "data": {
            "text/plain": [
              "bool"
            ]
          },
          "metadata": {},
          "execution_count": 9
        }
      ]
    },
    {
      "cell_type": "code",
      "source": [
        "a= 3\n",
        "A = 4\n",
        "A * a"
      ],
      "metadata": {
        "colab": {
          "base_uri": "https://localhost:8080/"
        },
        "id": "cP7LynGE_TsL",
        "outputId": "b2233898-174d-4b99-fa71-e8e5a051b109"
      },
      "execution_count": null,
      "outputs": [
        {
          "output_type": "execute_result",
          "data": {
            "text/plain": [
              "12"
            ]
          },
          "metadata": {},
          "execution_count": 11
        }
      ]
    },
    {
      "cell_type": "code",
      "source": [
        "x=6\n",
        "y=6.4\n",
        "z=x+y\n",
        "print (z)\n",
        "type (z)\n",
        "print(hex(id(z)))\n",
        "\n"
      ],
      "metadata": {
        "colab": {
          "base_uri": "https://localhost:8080/"
        },
        "id": "UJlv8wJo_zDj",
        "outputId": "18a8b829-0a04-4a05-a1c7-3f4fe3c4efc7"
      },
      "execution_count": null,
      "outputs": [
        {
          "output_type": "stream",
          "name": "stdout",
          "text": [
            "12.4\n",
            "0x7f59d286f090\n"
          ]
        }
      ]
    },
    {
      "cell_type": "code",
      "source": [
        "some_random_operation = (x+y)/y + (y+x)*x\n",
        "print (x)\n",
        "print (y)\n",
        "print(some_random_operation)\n",
        "type(some_random_operation)\n",
        "print(bin(id(some_random_operation)))"
      ],
      "metadata": {
        "colab": {
          "base_uri": "https://localhost:8080/"
        },
        "id": "SCZqH-JsAMVa",
        "outputId": "9cfaf974-f922-4595-d6d5-0ef1a54e28a4"
      },
      "execution_count": null,
      "outputs": [
        {
          "output_type": "stream",
          "name": "stdout",
          "text": [
            "6\n",
            "6.4\n",
            "76.3375\n",
            "0b11111110101100111001010100111000001100110010000\n"
          ]
        }
      ]
    },
    {
      "cell_type": "code",
      "source": [
        "c=3+4j\n",
        "print(type(c))\n",
        "print(c)\n",
        "c1=complex(4+5j)\n",
        "print(type(c1))\n",
        "print (c1)\n",
        "print(\"complex Number real part =\", c1.real)\n",
        "print(\"complex Number imaginary part =\", c1.imag)\n",
        "print(\"complex Number real part =\", c.real)\n",
        "print(\"complex Number imaginary part =\", c.imag)\n",
        "print (c,c1)\n",
        "print(\"addtion of complex number =\", c+c1)\n",
        "print(\"substraction of complex number =\", c-c1)\n",
        "print(\"multiplication of complex number =\", c*c1)\n",
        "print(\"Division of complex number =\", c/c1)\n",
        "print(\"power of complex number =\", c**c1)\n",
        "print(isinstance(c1,int))\n",
        "print(isinstance(c1,complex))"
      ],
      "metadata": {
        "colab": {
          "base_uri": "https://localhost:8080/"
        },
        "id": "N3a_BH0pE7Ik",
        "outputId": "f3e08713-fe64-4c9e-c4b3-b4c8a71c27a3"
      },
      "execution_count": null,
      "outputs": [
        {
          "output_type": "stream",
          "name": "stdout",
          "text": [
            "<class 'complex'>\n",
            "(3+4j)\n",
            "<class 'complex'>\n",
            "(4+5j)\n",
            "complex Number real part = 4.0\n",
            "complex Number imaginary part = 5.0\n",
            "complex Number real part = 3.0\n",
            "complex Number imaginary part = 4.0\n",
            "(3+4j) (4+5j)\n",
            "addtion of complex number = (7+9j)\n",
            "substraction of complex number = (-1-1j)\n",
            "multiplication of complex number = (-8+31j)\n",
            "Division of complex number = (0.7804878048780489+0.02439024390243905j)\n",
            "power of complex number = (4.176545694327618-4.3872754837925125j)\n",
            "False\n",
            "True\n"
          ]
        }
      ]
    },
    {
      "cell_type": "code",
      "source": [
        "x=4.0\n",
        "type(x)"
      ],
      "metadata": {
        "colab": {
          "base_uri": "https://localhost:8080/"
        },
        "id": "n62e95phFCSh",
        "outputId": "2cb9e647-756f-493b-b31b-2191e70bef1e"
      },
      "execution_count": null,
      "outputs": [
        {
          "output_type": "execute_result",
          "data": {
            "text/plain": [
              "float"
            ]
          },
          "metadata": {},
          "execution_count": 40
        }
      ]
    },
    {
      "cell_type": "code",
      "source": [
        "x=int(x)"
      ],
      "metadata": {
        "id": "gZadyzCxKWDU"
      },
      "execution_count": null,
      "outputs": []
    },
    {
      "cell_type": "code",
      "source": [
        "type (x)"
      ],
      "metadata": {
        "colab": {
          "base_uri": "https://localhost:8080/"
        },
        "id": "SaVzG03pKdzX",
        "outputId": "067fa316-e323-467e-8376-8d2d0996ccf5"
      },
      "execution_count": null,
      "outputs": [
        {
          "output_type": "execute_result",
          "data": {
            "text/plain": [
              "int"
            ]
          },
          "metadata": {},
          "execution_count": 42
        }
      ]
    },
    {
      "cell_type": "code",
      "source": [
        "x=float(x)\n",
        "type(x)"
      ],
      "metadata": {
        "colab": {
          "base_uri": "https://localhost:8080/"
        },
        "id": "xmDPSFMRKh2P",
        "outputId": "aa6b0e51-7436-4095-a789-9b5e3c9141d4"
      },
      "execution_count": null,
      "outputs": [
        {
          "output_type": "execute_result",
          "data": {
            "text/plain": [
              "float"
            ]
          },
          "metadata": {},
          "execution_count": 43
        }
      ]
    },
    {
      "cell_type": "code",
      "source": [
        "int(2+3.4)"
      ],
      "metadata": {
        "colab": {
          "base_uri": "https://localhost:8080/"
        },
        "id": "ZK9ZBeZBKrox",
        "outputId": "37a57fa5-5b3d-435f-d24c-09654afbd2e6"
      },
      "execution_count": null,
      "outputs": [
        {
          "output_type": "execute_result",
          "data": {
            "text/plain": [
              "5"
            ]
          },
          "metadata": {},
          "execution_count": 44
        }
      ]
    },
    {
      "cell_type": "code",
      "source": [
        "float(2+5)"
      ],
      "metadata": {
        "colab": {
          "base_uri": "https://localhost:8080/"
        },
        "id": "ZqSREZZLLJOF",
        "outputId": "8f8a9ddc-a8cf-40c1-845d-cc014b36fc19"
      },
      "execution_count": null,
      "outputs": [
        {
          "output_type": "execute_result",
          "data": {
            "text/plain": [
              "7.0"
            ]
          },
          "metadata": {},
          "execution_count": 46
        }
      ]
    },
    {
      "cell_type": "code",
      "source": [
        "c=5.665465\n",
        "type(c)\n",
        "b=int(c)\n",
        "print(type(c))\n",
        "print(type(b))\n",
        "print(b)\n",
        "print(c)\n",
        "print(b==c)\n",
        "print(\"%.3f\" %c)\n",
        "print(\"%.2f\" %c)"
      ],
      "metadata": {
        "colab": {
          "base_uri": "https://localhost:8080/"
        },
        "id": "nt0KdIk6LSL8",
        "outputId": "ef056c02-08cf-4834-d465-040a39924ce5"
      },
      "execution_count": null,
      "outputs": [
        {
          "output_type": "stream",
          "name": "stdout",
          "text": [
            "<class 'float'>\n",
            "<class 'int'>\n",
            "5\n",
            "5.665465\n",
            "False\n",
            "5.665\n",
            "5.67\n"
          ]
        }
      ]
    },
    {
      "cell_type": "code",
      "source": [
        "q=5.670374419\n",
        "print(\"stepan-Boltzman constant=\",\"%.4f\" %q)"
      ],
      "metadata": {
        "colab": {
          "base_uri": "https://localhost:8080/"
        },
        "id": "shTbneEzLrWy",
        "outputId": "deaf6da9-7e92-4c06-e2fa-cc059ea1a115"
      },
      "execution_count": null,
      "outputs": [
        {
          "output_type": "stream",
          "name": "stdout",
          "text": [
            "stepan-Boltzman constant= 5.6704\n"
          ]
        }
      ]
    },
    {
      "cell_type": "code",
      "source": [
        "pie = 3.141592653\n",
        "print(\"Value of pie=\", round(pie,5))"
      ],
      "metadata": {
        "colab": {
          "base_uri": "https://localhost:8080/"
        },
        "id": "LkrtxvqCNdBV",
        "outputId": "a5689c50-617e-47e6-9620-d3165cac4623"
      },
      "execution_count": null,
      "outputs": [
        {
          "output_type": "stream",
          "name": "stdout",
          "text": [
            "Value of pie= 3.14159\n"
          ]
        }
      ]
    },
    {
      "cell_type": "code",
      "source": [
        "import math\n",
        "v = math.ceil(4.4)\n",
        "print(v)\n",
        "n = math.ceil(1+2.6)\n",
        "print(n)\n",
        "h = math.floor(2+2.6)\n",
        "print(h)\n",
        "j= (\"square value = \",(4**2))\n",
        "print(j)\n"
      ],
      "metadata": {
        "colab": {
          "base_uri": "https://localhost:8080/"
        },
        "id": "uaDlDvLZOBK_",
        "outputId": "96c6f4cd-7a42-47fd-b466-5b314d03c2a0"
      },
      "execution_count": null,
      "outputs": [
        {
          "output_type": "stream",
          "name": "stdout",
          "text": [
            "5\n",
            "4\n",
            "4\n",
            "('square value = ', 16)\n"
          ]
        }
      ]
    },
    {
      "cell_type": "code",
      "source": [
        ""
      ],
      "metadata": {
        "id": "Q3-9inArQi-N"
      },
      "execution_count": null,
      "outputs": []
    }
  ]
}